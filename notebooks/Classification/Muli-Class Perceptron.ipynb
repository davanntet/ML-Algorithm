{
 "cells": [
  {
   "cell_type": "code",
   "execution_count": 953,
   "id": "initial_id",
   "metadata": {
    "collapsed": true,
    "ExecuteTime": {
     "end_time": "2024-01-10T16:53:49.531436600Z",
     "start_time": "2024-01-10T16:53:49.519269800Z"
    }
   },
   "outputs": [],
   "source": [
    "import numpy as np"
   ]
  },
  {
   "cell_type": "code",
   "outputs": [],
   "source": [
    "\n",
    "class ClassificationModel:\n",
    "    def __init__(self,epoch,lr):\n",
    "        self.target_class = None\n",
    "        self.weights = None\n",
    "        self.target = None\n",
    "        self.feature = None\n",
    "        self.epoch = epoch\n",
    "        self.lr = lr\n",
    "    \n",
    "    def func_activation(self,x):\n",
    "        y_arg = []\n",
    "        for i in range(len(self.target_class)):\n",
    "            y_arg.append(np.dot(x,self.weights[i,1:])+self.weights[i,0])\n",
    "        return np.argmax(y_arg)\n",
    "    \n",
    "    def fit(self,feature,target):\n",
    "        self.feature = feature\n",
    "        self.target = target\n",
    "        self.target_class = np.unique(target)\n",
    "        self.weights = np.zeros((len(self.target_class),feature.shape[1]+1))\n",
    "        for e in range(self.epoch):\n",
    "            for x,y in zip(feature,target):\n",
    "                y_hat = self.func_activation(x)\n",
    "                y_m = np.zeros(len(self.target_class))\n",
    "                y_hat_m = np.zeros(len(self.target_class))\n",
    "                y_m[y] = 1\n",
    "                y_hat_m[y_hat] = 1\n",
    "                self.weights[y_hat,1:] += self.lr*(np.dot(y_m,y_hat_m)-1)*x\n",
    "                self.weights[y_hat,0] += self.lr*(np.dot(y_m,y_hat_m)-1)\n",
    "            print(f\"epoch:{e+1} ---> accuracy:{self.accuracy(feature,target)}%\")   \n",
    "            \n",
    "    def predict(self,x):\n",
    "        y_hat = []\n",
    "        for f in x:\n",
    "            y_hat.append(self.func_activation(f))\n",
    "        return np.array(y_hat)\n",
    "    \n",
    "    def accuracy(self,x_ts,y_ts):\n",
    "        accuracy_rate =  np.sum(self.predict(x_ts)==y_ts)/len(y_ts)\n",
    "        return accuracy_rate*100"
   ],
   "metadata": {
    "collapsed": false,
    "ExecuteTime": {
     "end_time": "2024-01-10T16:53:49.540199300Z",
     "start_time": "2024-01-10T16:53:49.523347800Z"
    }
   },
   "id": "72fc0a6b3418a6a5",
   "execution_count": 954
  },
  {
   "cell_type": "code",
   "outputs": [],
   "source": [
    "from sklearn.datasets import load_iris\n",
    "from sklearn.model_selection import train_test_split"
   ],
   "metadata": {
    "collapsed": false,
    "ExecuteTime": {
     "end_time": "2024-01-10T16:53:49.541199900Z",
     "start_time": "2024-01-10T16:53:49.534445800Z"
    }
   },
   "id": "720ab05b8c000f04",
   "execution_count": 955
  },
  {
   "cell_type": "code",
   "outputs": [],
   "source": [
    "dataset = load_iris()\n",
    "X = dataset.data\n",
    "Y = dataset.target"
   ],
   "metadata": {
    "collapsed": false,
    "ExecuteTime": {
     "end_time": "2024-01-10T16:53:49.571490400Z",
     "start_time": "2024-01-10T16:53:49.542206500Z"
    }
   },
   "id": "55ba9a73cda798a3",
   "execution_count": 956
  },
  {
   "cell_type": "code",
   "outputs": [],
   "source": [
    "X_train,x_test,Y_train,y_test = train_test_split(X,Y,test_size=0.2)"
   ],
   "metadata": {
    "collapsed": false,
    "ExecuteTime": {
     "end_time": "2024-01-10T16:53:49.571490400Z",
     "start_time": "2024-01-10T16:53:49.549526900Z"
    }
   },
   "id": "ca57ac1ff6b682a6",
   "execution_count": 957
  },
  {
   "cell_type": "code",
   "outputs": [],
   "source": [
    "model = ClassificationModel(epoch=10,lr=0.01)"
   ],
   "metadata": {
    "collapsed": false,
    "ExecuteTime": {
     "end_time": "2024-01-10T16:53:49.571490400Z",
     "start_time": "2024-01-10T16:53:49.554603800Z"
    }
   },
   "id": "52442df5d54207eb",
   "execution_count": 958
  },
  {
   "cell_type": "code",
   "outputs": [
    {
     "name": "stdout",
     "output_type": "stream",
     "text": [
      "epoch:1 ---> accuracy:34.166666666666664%\n",
      "epoch:2 ---> accuracy:59.166666666666664%\n",
      "epoch:3 ---> accuracy:96.66666666666667%\n",
      "epoch:4 ---> accuracy:97.5%\n",
      "epoch:5 ---> accuracy:34.166666666666664%\n",
      "epoch:6 ---> accuracy:94.16666666666667%\n",
      "epoch:7 ---> accuracy:90.83333333333333%\n",
      "epoch:8 ---> accuracy:98.33333333333333%\n",
      "epoch:9 ---> accuracy:97.5%\n",
      "epoch:10 ---> accuracy:86.66666666666667%\n"
     ]
    }
   ],
   "source": [
    "model.fit(X_train,Y_train)"
   ],
   "metadata": {
    "collapsed": false,
    "ExecuteTime": {
     "end_time": "2024-01-10T16:53:49.600096100Z",
     "start_time": "2024-01-10T16:53:49.560962Z"
    }
   },
   "id": "1270d8b00476760",
   "execution_count": 959
  },
  {
   "cell_type": "code",
   "outputs": [
    {
     "data": {
      "text/plain": "90.0"
     },
     "execution_count": 960,
     "metadata": {},
     "output_type": "execute_result"
    }
   ],
   "source": [
    "model.accuracy(x_test,y_test)"
   ],
   "metadata": {
    "collapsed": false,
    "ExecuteTime": {
     "end_time": "2024-01-10T16:53:49.604699900Z",
     "start_time": "2024-01-10T16:53:49.597125400Z"
    }
   },
   "id": "64f7888759501460",
   "execution_count": 960
  }
 ],
 "metadata": {
  "kernelspec": {
   "display_name": "Python 3",
   "language": "python",
   "name": "python3"
  },
  "language_info": {
   "codemirror_mode": {
    "name": "ipython",
    "version": 2
   },
   "file_extension": ".py",
   "mimetype": "text/x-python",
   "name": "python",
   "nbconvert_exporter": "python",
   "pygments_lexer": "ipython2",
   "version": "2.7.6"
  }
 },
 "nbformat": 4,
 "nbformat_minor": 5
}
