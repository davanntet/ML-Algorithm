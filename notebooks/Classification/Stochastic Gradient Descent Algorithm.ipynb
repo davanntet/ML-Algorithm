{
 "cells": [
  {
   "cell_type": "code",
   "execution_count": 3019,
   "id": "initial_id",
   "metadata": {
    "collapsed": true,
    "ExecuteTime": {
     "end_time": "2024-01-12T16:42:15.491123500Z",
     "start_time": "2024-01-12T16:42:15.485116600Z"
    }
   },
   "outputs": [],
   "source": [
    "import numpy as np"
   ]
  },
  {
   "cell_type": "code",
   "outputs": [],
   "source": [
    "class Classification:\n",
    "    def __init__(self,epoch:int,learning_rate:float,batch_size:int):\n",
    "        self.epoch = epoch\n",
    "        self.learning_rate = learning_rate\n",
    "        self.batch_size = batch_size\n",
    "        self.weights = None\n",
    "    \n",
    "    def input_net(self,x):\n",
    "        return np.dot(x,self.weights[1:].T)+self.weights[0]\n",
    "    def loss_function(self,x,y):\n",
    "        y_hat = self.predict(x)\n",
    "        loss = y_hat-y\n",
    "        return loss\n",
    "    \n",
    "    def activation_function(self,x):\n",
    "        z = self.input_net(x)\n",
    "        return 0 if z>=0 else 1\n",
    "    \n",
    "    def gradient(self,x,y):\n",
    "        grad = self.loss_function(x,y)\n",
    "        return grad/len(y)\n",
    "    def fit(self,x,y):\n",
    "        x = np.array(x)\n",
    "        y = np.array(y)\n",
    "        self.weights = np.random.randn(x.shape[1]+1)\n",
    "        for i in range(1,self.epoch):\n",
    "            for idx in range(0,len(y),self.batch_size):\n",
    "                grad = self.gradient(x[idx:idx+self.batch_size],y[idx:idx+self.batch_size])\n",
    "                _x = x[idx:idx+self.batch_size]\n",
    "                self.weights[1:] += self.learning_rate*grad.dot(_x)\n",
    "                self.weights[0] += self.learning_rate*np.average(grad)\n",
    "            print(f\"epoch:{i} ---> accuracy:{self.score(x,y)}%\")\n",
    "    def predict(self,x):\n",
    "        result =[]\n",
    "        for i in x:\n",
    "            result.append(self.activation_function(i))    \n",
    "        return np.array(result)\n",
    "        \n",
    "    def score(self,x,y):\n",
    "        result = self.predict(x)\n",
    "        _score = np.sum(result==y)/len(y)\n",
    "        return _score*100\n",
    "    "
   ],
   "metadata": {
    "collapsed": false,
    "ExecuteTime": {
     "end_time": "2024-01-12T16:42:15.514260500Z",
     "start_time": "2024-01-12T16:42:15.494124Z"
    }
   },
   "id": "4bf4f11fcbb3c1b9",
   "execution_count": 3020
  },
  {
   "cell_type": "code",
   "outputs": [],
   "source": [
    "from sklearn.datasets import load_iris\n",
    "from sklearn.model_selection import train_test_split\n"
   ],
   "metadata": {
    "collapsed": false,
    "ExecuteTime": {
     "end_time": "2024-01-12T16:42:15.549055900Z",
     "start_time": "2024-01-12T16:42:15.506809500Z"
    }
   },
   "id": "4dd29afca27a8b6d",
   "execution_count": 3021
  },
  {
   "cell_type": "code",
   "outputs": [],
   "source": [
    "dataset = load_iris()\n",
    "X = dataset.data\n",
    "Y = dataset.target\n",
    "choose_label = Y < 2"
   ],
   "metadata": {
    "collapsed": false,
    "ExecuteTime": {
     "end_time": "2024-01-12T16:42:15.549055900Z",
     "start_time": "2024-01-12T16:42:15.510819900Z"
    }
   },
   "id": "9357c16b3322bc27",
   "execution_count": 3022
  },
  {
   "cell_type": "code",
   "outputs": [],
   "source": [
    "X_train, x_test, Y_train, y_test = train_test_split(X[choose_label], Y[choose_label], test_size=0.2)"
   ],
   "metadata": {
    "collapsed": false,
    "ExecuteTime": {
     "end_time": "2024-01-12T16:42:15.549055900Z",
     "start_time": "2024-01-12T16:42:15.518212500Z"
    }
   },
   "id": "f556d1e0bec665c0",
   "execution_count": 3023
  },
  {
   "cell_type": "code",
   "outputs": [],
   "source": [
    "model = Classification(epoch=100, learning_rate=0.001,batch_size=5)"
   ],
   "metadata": {
    "collapsed": false,
    "ExecuteTime": {
     "end_time": "2024-01-12T16:42:48.679907Z",
     "start_time": "2024-01-12T16:42:48.668923200Z"
    }
   },
   "id": "b4c2a734d0f1a9b7",
   "execution_count": 3033
  },
  {
   "cell_type": "code",
   "outputs": [
    {
     "name": "stdout",
     "output_type": "stream",
     "text": [
      "epoch:1 ---> accuracy:80.0%\n",
      "epoch:2 ---> accuracy:88.75%\n",
      "epoch:3 ---> accuracy:91.25%\n",
      "epoch:4 ---> accuracy:92.5%\n",
      "epoch:5 ---> accuracy:92.5%\n",
      "epoch:6 ---> accuracy:93.75%\n",
      "epoch:7 ---> accuracy:93.75%\n",
      "epoch:8 ---> accuracy:93.75%\n",
      "epoch:9 ---> accuracy:95.0%\n",
      "epoch:10 ---> accuracy:97.5%\n",
      "epoch:11 ---> accuracy:97.5%\n",
      "epoch:12 ---> accuracy:97.5%\n",
      "epoch:13 ---> accuracy:97.5%\n",
      "epoch:14 ---> accuracy:97.5%\n",
      "epoch:15 ---> accuracy:97.5%\n",
      "epoch:16 ---> accuracy:97.5%\n",
      "epoch:17 ---> accuracy:97.5%\n",
      "epoch:18 ---> accuracy:97.5%\n",
      "epoch:19 ---> accuracy:97.5%\n",
      "epoch:20 ---> accuracy:97.5%\n",
      "epoch:21 ---> accuracy:97.5%\n",
      "epoch:22 ---> accuracy:97.5%\n",
      "epoch:23 ---> accuracy:97.5%\n",
      "epoch:24 ---> accuracy:97.5%\n",
      "epoch:25 ---> accuracy:97.5%\n",
      "epoch:26 ---> accuracy:97.5%\n",
      "epoch:27 ---> accuracy:98.75%\n",
      "epoch:28 ---> accuracy:98.75%\n",
      "epoch:29 ---> accuracy:98.75%\n",
      "epoch:30 ---> accuracy:98.75%\n",
      "epoch:31 ---> accuracy:98.75%\n",
      "epoch:32 ---> accuracy:98.75%\n",
      "epoch:33 ---> accuracy:98.75%\n",
      "epoch:34 ---> accuracy:98.75%\n",
      "epoch:35 ---> accuracy:98.75%\n",
      "epoch:36 ---> accuracy:98.75%\n",
      "epoch:37 ---> accuracy:98.75%\n",
      "epoch:38 ---> accuracy:98.75%\n",
      "epoch:39 ---> accuracy:98.75%\n",
      "epoch:40 ---> accuracy:98.75%\n",
      "epoch:41 ---> accuracy:98.75%\n",
      "epoch:42 ---> accuracy:98.75%\n",
      "epoch:43 ---> accuracy:98.75%\n",
      "epoch:44 ---> accuracy:98.75%\n",
      "epoch:45 ---> accuracy:98.75%\n",
      "epoch:46 ---> accuracy:98.75%\n",
      "epoch:47 ---> accuracy:98.75%\n",
      "epoch:48 ---> accuracy:98.75%\n",
      "epoch:49 ---> accuracy:98.75%\n",
      "epoch:50 ---> accuracy:100.0%\n",
      "epoch:51 ---> accuracy:100.0%\n",
      "epoch:52 ---> accuracy:100.0%\n",
      "epoch:53 ---> accuracy:100.0%\n",
      "epoch:54 ---> accuracy:100.0%\n",
      "epoch:55 ---> accuracy:100.0%\n",
      "epoch:56 ---> accuracy:100.0%\n",
      "epoch:57 ---> accuracy:100.0%\n",
      "epoch:58 ---> accuracy:100.0%\n",
      "epoch:59 ---> accuracy:100.0%\n",
      "epoch:60 ---> accuracy:100.0%\n",
      "epoch:61 ---> accuracy:100.0%\n",
      "epoch:62 ---> accuracy:100.0%\n",
      "epoch:63 ---> accuracy:100.0%\n",
      "epoch:64 ---> accuracy:100.0%\n",
      "epoch:65 ---> accuracy:100.0%\n",
      "epoch:66 ---> accuracy:100.0%\n",
      "epoch:67 ---> accuracy:100.0%\n",
      "epoch:68 ---> accuracy:100.0%\n",
      "epoch:69 ---> accuracy:100.0%\n",
      "epoch:70 ---> accuracy:100.0%\n",
      "epoch:71 ---> accuracy:100.0%\n",
      "epoch:72 ---> accuracy:100.0%\n",
      "epoch:73 ---> accuracy:100.0%\n",
      "epoch:74 ---> accuracy:100.0%\n",
      "epoch:75 ---> accuracy:100.0%\n",
      "epoch:76 ---> accuracy:100.0%\n",
      "epoch:77 ---> accuracy:100.0%\n",
      "epoch:78 ---> accuracy:100.0%\n",
      "epoch:79 ---> accuracy:100.0%\n",
      "epoch:80 ---> accuracy:100.0%\n",
      "epoch:81 ---> accuracy:100.0%\n",
      "epoch:82 ---> accuracy:100.0%\n",
      "epoch:83 ---> accuracy:100.0%\n",
      "epoch:84 ---> accuracy:100.0%\n",
      "epoch:85 ---> accuracy:100.0%\n",
      "epoch:86 ---> accuracy:100.0%\n",
      "epoch:87 ---> accuracy:100.0%\n",
      "epoch:88 ---> accuracy:100.0%\n",
      "epoch:89 ---> accuracy:100.0%\n",
      "epoch:90 ---> accuracy:100.0%\n",
      "epoch:91 ---> accuracy:100.0%\n",
      "epoch:92 ---> accuracy:100.0%\n",
      "epoch:93 ---> accuracy:100.0%\n",
      "epoch:94 ---> accuracy:100.0%\n",
      "epoch:95 ---> accuracy:100.0%\n",
      "epoch:96 ---> accuracy:100.0%\n",
      "epoch:97 ---> accuracy:100.0%\n",
      "epoch:98 ---> accuracy:100.0%\n",
      "epoch:99 ---> accuracy:100.0%\n"
     ]
    }
   ],
   "source": [
    "model.fit(X_train, Y_train)"
   ],
   "metadata": {
    "collapsed": false,
    "ExecuteTime": {
     "end_time": "2024-01-12T16:42:54.029371200Z",
     "start_time": "2024-01-12T16:42:53.966102600Z"
    }
   },
   "id": "b11e5158747f8c46",
   "execution_count": 3038
  },
  {
   "cell_type": "code",
   "outputs": [
    {
     "data": {
      "text/plain": "100.0"
     },
     "execution_count": 3039,
     "metadata": {},
     "output_type": "execute_result"
    }
   ],
   "source": [
    "model.score(x_test, y_test)"
   ],
   "metadata": {
    "collapsed": false,
    "ExecuteTime": {
     "end_time": "2024-01-12T16:43:06.911835200Z",
     "start_time": "2024-01-12T16:43:06.906596900Z"
    }
   },
   "id": "b3c2acc8599e4355",
   "execution_count": 3039
  }
 ],
 "metadata": {
  "kernelspec": {
   "display_name": "Python 3",
   "language": "python",
   "name": "python3"
  },
  "language_info": {
   "codemirror_mode": {
    "name": "ipython",
    "version": 2
   },
   "file_extension": ".py",
   "mimetype": "text/x-python",
   "name": "python",
   "nbconvert_exporter": "python",
   "pygments_lexer": "ipython2",
   "version": "2.7.6"
  }
 },
 "nbformat": 4,
 "nbformat_minor": 5
}
