{
 "cells": [
  {
   "cell_type": "code",
   "outputs": [],
   "source": [
    "import numpy as np"
   ],
   "metadata": {
    "collapsed": false,
    "ExecuteTime": {
     "end_time": "2024-01-11T07:25:44.025249200Z",
     "start_time": "2024-01-11T07:25:44.019232700Z"
    }
   },
   "id": "94b175b2d8dc16c7",
   "execution_count": 833
  },
  {
   "cell_type": "code",
   "outputs": [],
   "source": [
    "\n",
    "class ClassificationModel:\n",
    "    def __init__(self,epoch,lr):\n",
    "        self.weights = None\n",
    "        self.target = None\n",
    "        self.feature = None\n",
    "        self.epoch = epoch\n",
    "        self.lr = lr\n",
    "    \n",
    "    \n",
    "    def func_activation(self,x):\n",
    "        net_input = np.dot(x,self.weights[1:])+self.weights[0]\n",
    "        return net_input\n",
    "    \n",
    "    def fit(self,feature,target):\n",
    "        self.feature = feature\n",
    "        self.target = target\n",
    "        self.weights = np.random.normal(size=feature.shape[1]+1,scale=self.lr,loc=0.0)\n",
    "        for e in range(self.epoch):\n",
    "            for x,y in zip(feature,target):\n",
    "                y_hat = self.func_activation(x)\n",
    "                self.weights[1:] += self.lr*(y-y_hat)*x\n",
    "                self.weights[0] += self.lr*(y-y_hat)\n",
    "            print(f\"epoch:{e+1} ---> accuracy:{self.accuracy(feature,target)}%\")   \n",
    "            \n",
    "    def predict(self,x):\n",
    "        y_hat = []\n",
    "        for f in x:\n",
    "            net_input = self.func_activation(f)\n",
    "            y_hat.append(1 if net_input>=0 else 0)\n",
    "        return np.array(y_hat)\n",
    "    \n",
    "    def accuracy(self,x_ts,y_ts):\n",
    "        accuracy_rate =  np.sum(self.predict(x_ts)==y_ts)/len(y_ts)\n",
    "        return accuracy_rate*100"
   ],
   "metadata": {
    "collapsed": false,
    "ExecuteTime": {
     "end_time": "2024-01-11T07:25:44.056215300Z",
     "start_time": "2024-01-11T07:25:44.026231500Z"
    }
   },
   "id": "b92121d6d11f5c17",
   "execution_count": 834
  },
  {
   "cell_type": "code",
   "outputs": [],
   "source": [
    "from sklearn.datasets import load_iris\n",
    "from sklearn.model_selection import train_test_split"
   ],
   "metadata": {
    "collapsed": false,
    "ExecuteTime": {
     "end_time": "2024-01-11T07:25:44.057209400Z",
     "start_time": "2024-01-11T07:25:44.033011200Z"
    }
   },
   "id": "a9b17577f69deacd",
   "execution_count": 835
  },
  {
   "cell_type": "code",
   "outputs": [],
   "source": [
    "dataset = load_iris()"
   ],
   "metadata": {
    "collapsed": false,
    "ExecuteTime": {
     "end_time": "2024-01-11T07:25:44.057209400Z",
     "start_time": "2024-01-11T07:25:44.038532400Z"
    }
   },
   "id": "e30adc1d319a2e56",
   "execution_count": 836
  },
  {
   "cell_type": "code",
   "outputs": [],
   "source": [
    "X = dataset.data\n",
    "Y = dataset.target"
   ],
   "metadata": {
    "collapsed": false,
    "ExecuteTime": {
     "end_time": "2024-01-11T07:25:44.057209400Z",
     "start_time": "2024-01-11T07:25:44.046457300Z"
    }
   },
   "id": "22ff4342226aadbf",
   "execution_count": 837
  },
  {
   "cell_type": "code",
   "outputs": [],
   "source": [
    "choose_label = Y<2"
   ],
   "metadata": {
    "collapsed": false,
    "ExecuteTime": {
     "end_time": "2024-01-11T07:25:44.076249400Z",
     "start_time": "2024-01-11T07:25:44.052695800Z"
    }
   },
   "id": "e39c9a8f1de94942",
   "execution_count": 838
  },
  {
   "cell_type": "code",
   "outputs": [],
   "source": [
    "X_train,x_test,Y_train,y_test = train_test_split(X[choose_label],Y[choose_label],test_size=0.2)"
   ],
   "metadata": {
    "collapsed": false,
    "ExecuteTime": {
     "end_time": "2024-01-11T07:25:44.078249100Z",
     "start_time": "2024-01-11T07:25:44.059555800Z"
    }
   },
   "id": "ec23ec387fce30de",
   "execution_count": 839
  },
  {
   "cell_type": "code",
   "outputs": [],
   "source": [
    "model = ClassificationModel(epoch=100,lr=0.01)"
   ],
   "metadata": {
    "collapsed": false,
    "ExecuteTime": {
     "end_time": "2024-01-11T07:25:44.078249100Z",
     "start_time": "2024-01-11T07:25:44.066080Z"
    }
   },
   "id": "fc1e63ebdb6e8e4f",
   "execution_count": 840
  },
  {
   "cell_type": "code",
   "outputs": [
    {
     "name": "stdout",
     "output_type": "stream",
     "text": [
      "epoch:1 ---> accuracy:52.5%\n",
      "epoch:2 ---> accuracy:81.25%\n",
      "epoch:3 ---> accuracy:91.25%\n",
      "epoch:4 ---> accuracy:91.25%\n",
      "epoch:5 ---> accuracy:92.5%\n",
      "epoch:6 ---> accuracy:92.5%\n",
      "epoch:7 ---> accuracy:92.5%\n",
      "epoch:8 ---> accuracy:92.5%\n",
      "epoch:9 ---> accuracy:92.5%\n",
      "epoch:10 ---> accuracy:92.5%\n",
      "epoch:11 ---> accuracy:92.5%\n",
      "epoch:12 ---> accuracy:92.5%\n",
      "epoch:13 ---> accuracy:92.5%\n",
      "epoch:14 ---> accuracy:92.5%\n",
      "epoch:15 ---> accuracy:91.25%\n",
      "epoch:16 ---> accuracy:91.25%\n",
      "epoch:17 ---> accuracy:92.5%\n",
      "epoch:18 ---> accuracy:92.5%\n",
      "epoch:19 ---> accuracy:92.5%\n",
      "epoch:20 ---> accuracy:92.5%\n",
      "epoch:21 ---> accuracy:92.5%\n",
      "epoch:22 ---> accuracy:92.5%\n",
      "epoch:23 ---> accuracy:92.5%\n",
      "epoch:24 ---> accuracy:92.5%\n",
      "epoch:25 ---> accuracy:92.5%\n",
      "epoch:26 ---> accuracy:92.5%\n",
      "epoch:27 ---> accuracy:92.5%\n",
      "epoch:28 ---> accuracy:92.5%\n",
      "epoch:29 ---> accuracy:92.5%\n",
      "epoch:30 ---> accuracy:92.5%\n",
      "epoch:31 ---> accuracy:92.5%\n",
      "epoch:32 ---> accuracy:92.5%\n",
      "epoch:33 ---> accuracy:92.5%\n",
      "epoch:34 ---> accuracy:92.5%\n",
      "epoch:35 ---> accuracy:92.5%\n",
      "epoch:36 ---> accuracy:92.5%\n",
      "epoch:37 ---> accuracy:92.5%\n",
      "epoch:38 ---> accuracy:92.5%\n",
      "epoch:39 ---> accuracy:92.5%\n",
      "epoch:40 ---> accuracy:92.5%\n",
      "epoch:41 ---> accuracy:92.5%\n",
      "epoch:42 ---> accuracy:92.5%\n",
      "epoch:43 ---> accuracy:92.5%\n",
      "epoch:44 ---> accuracy:92.5%\n",
      "epoch:45 ---> accuracy:92.5%\n",
      "epoch:46 ---> accuracy:92.5%\n",
      "epoch:47 ---> accuracy:92.5%\n",
      "epoch:48 ---> accuracy:92.5%\n",
      "epoch:49 ---> accuracy:92.5%\n",
      "epoch:50 ---> accuracy:92.5%\n",
      "epoch:51 ---> accuracy:92.5%\n",
      "epoch:52 ---> accuracy:92.5%\n",
      "epoch:53 ---> accuracy:92.5%\n",
      "epoch:54 ---> accuracy:92.5%\n",
      "epoch:55 ---> accuracy:92.5%\n",
      "epoch:56 ---> accuracy:92.5%\n",
      "epoch:57 ---> accuracy:92.5%\n",
      "epoch:58 ---> accuracy:92.5%\n",
      "epoch:59 ---> accuracy:92.5%\n",
      "epoch:60 ---> accuracy:92.5%\n",
      "epoch:61 ---> accuracy:92.5%\n",
      "epoch:62 ---> accuracy:92.5%\n",
      "epoch:63 ---> accuracy:92.5%\n",
      "epoch:64 ---> accuracy:92.5%\n",
      "epoch:65 ---> accuracy:92.5%\n",
      "epoch:66 ---> accuracy:92.5%\n",
      "epoch:67 ---> accuracy:92.5%\n",
      "epoch:68 ---> accuracy:92.5%\n",
      "epoch:69 ---> accuracy:92.5%\n",
      "epoch:70 ---> accuracy:92.5%\n",
      "epoch:71 ---> accuracy:92.5%\n",
      "epoch:72 ---> accuracy:92.5%\n",
      "epoch:73 ---> accuracy:92.5%\n",
      "epoch:74 ---> accuracy:92.5%\n",
      "epoch:75 ---> accuracy:93.75%\n",
      "epoch:76 ---> accuracy:93.75%\n",
      "epoch:77 ---> accuracy:93.75%\n",
      "epoch:78 ---> accuracy:93.75%\n",
      "epoch:79 ---> accuracy:93.75%\n",
      "epoch:80 ---> accuracy:93.75%\n",
      "epoch:81 ---> accuracy:93.75%\n",
      "epoch:82 ---> accuracy:93.75%\n",
      "epoch:83 ---> accuracy:93.75%\n",
      "epoch:84 ---> accuracy:93.75%\n",
      "epoch:85 ---> accuracy:93.75%\n",
      "epoch:86 ---> accuracy:93.75%\n",
      "epoch:87 ---> accuracy:93.75%\n",
      "epoch:88 ---> accuracy:93.75%\n",
      "epoch:89 ---> accuracy:95.0%\n",
      "epoch:90 ---> accuracy:95.0%\n",
      "epoch:91 ---> accuracy:95.0%\n",
      "epoch:92 ---> accuracy:95.0%\n",
      "epoch:93 ---> accuracy:95.0%\n",
      "epoch:94 ---> accuracy:95.0%\n",
      "epoch:95 ---> accuracy:95.0%\n",
      "epoch:96 ---> accuracy:95.0%\n",
      "epoch:97 ---> accuracy:95.0%\n",
      "epoch:98 ---> accuracy:95.0%\n",
      "epoch:99 ---> accuracy:95.0%\n",
      "epoch:100 ---> accuracy:95.0%\n"
     ]
    }
   ],
   "source": [
    "model.fit(X_train,Y_train)"
   ],
   "metadata": {
    "collapsed": false,
    "ExecuteTime": {
     "end_time": "2024-01-11T07:25:44.144360600Z",
     "start_time": "2024-01-11T07:25:44.084247700Z"
    }
   },
   "id": "5068f96d5cd98c65",
   "execution_count": 841
  },
  {
   "cell_type": "code",
   "outputs": [
    {
     "data": {
      "text/plain": "100.0"
     },
     "execution_count": 842,
     "metadata": {},
     "output_type": "execute_result"
    }
   ],
   "source": [
    "model.accuracy(x_test,y_test)"
   ],
   "metadata": {
    "collapsed": false,
    "ExecuteTime": {
     "end_time": "2024-01-11T07:25:44.157466700Z",
     "start_time": "2024-01-11T07:25:44.147361800Z"
    }
   },
   "id": "8d4666c2026cc380",
   "execution_count": 842
  }
 ],
 "metadata": {
  "kernelspec": {
   "display_name": "Python 3",
   "language": "python",
   "name": "python3"
  },
  "language_info": {
   "codemirror_mode": {
    "name": "ipython",
    "version": 2
   },
   "file_extension": ".py",
   "mimetype": "text/x-python",
   "name": "python",
   "nbconvert_exporter": "python",
   "pygments_lexer": "ipython2",
   "version": "2.7.6"
  }
 },
 "nbformat": 4,
 "nbformat_minor": 5
}
