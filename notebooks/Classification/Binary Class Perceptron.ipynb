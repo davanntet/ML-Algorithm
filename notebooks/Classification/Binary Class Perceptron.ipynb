{
 "cells": [
  {
   "cell_type": "code",
   "outputs": [],
   "source": [
    "import numpy as np"
   ],
   "metadata": {
    "collapsed": false,
    "ExecuteTime": {
     "end_time": "2024-01-10T07:31:08.187535200Z",
     "start_time": "2024-01-10T07:31:08.180526400Z"
    }
   },
   "id": "94b175b2d8dc16c7",
   "execution_count": 13
  },
  {
   "cell_type": "code",
   "outputs": [],
   "source": [
    "\n",
    "class ClassificationModel:\n",
    "    def __init__(self,epoch,lr):\n",
    "        self.weights = None\n",
    "        self.target = None\n",
    "        self.feature = None\n",
    "        self.epoch = epoch\n",
    "        self.lr = lr\n",
    "    \n",
    "    def func_activation(self,x):\n",
    "        net_input = np.dot(x,self.weights[1:])+self.weights[0]\n",
    "        return 1 if net_input>=0 else 0\n",
    "    \n",
    "    def fit(self,feature,target):\n",
    "        self.feature = feature\n",
    "        self.target = target\n",
    "        self.weights = np.zeros(feature.shape[1]+1)\n",
    "        for e in range(self.epoch):\n",
    "            for x,y in zip(feature,target):\n",
    "                y_hat = self.func_activation(x)\n",
    "                self.weights[1:] += self.lr*(y-y_hat)*x\n",
    "                self.weights[0] += self.lr*(y-y_hat)\n",
    "            print(f\"epoch:{e+1} ---> accuracy:{self.accuracy(feature,target)}%\")   \n",
    "            \n",
    "    def predict(self,x):\n",
    "        y_hat = []\n",
    "        for f in x:\n",
    "            y_hat.append(self.func_activation(f))\n",
    "        return np.array(y_hat)\n",
    "    \n",
    "    def accuracy(self,x_ts,y_ts):\n",
    "        accuracy_rate =  np.sum(self.predict(x_ts)==y_ts)/len(y_ts)\n",
    "        return accuracy_rate*100"
   ],
   "metadata": {
    "collapsed": false,
    "ExecuteTime": {
     "end_time": "2024-01-10T11:37:52.716079900Z",
     "start_time": "2024-01-10T11:37:52.709382100Z"
    }
   },
   "id": "b92121d6d11f5c17",
   "execution_count": 164
  },
  {
   "cell_type": "code",
   "outputs": [],
   "source": [
    "from sklearn.datasets import load_iris\n",
    "from sklearn.model_selection import train_test_split"
   ],
   "metadata": {
    "collapsed": false,
    "ExecuteTime": {
     "end_time": "2024-01-10T11:32:07.161871800Z",
     "start_time": "2024-01-10T11:32:07.149264400Z"
    }
   },
   "id": "a9b17577f69deacd",
   "execution_count": 150
  },
  {
   "cell_type": "code",
   "outputs": [],
   "source": [
    "dataset = load_iris()"
   ],
   "metadata": {
    "collapsed": false,
    "ExecuteTime": {
     "end_time": "2024-01-10T11:32:08.524546100Z",
     "start_time": "2024-01-10T11:32:08.478727700Z"
    }
   },
   "id": "e30adc1d319a2e56",
   "execution_count": 151
  },
  {
   "cell_type": "code",
   "outputs": [],
   "source": [
    "X = dataset.data\n",
    "Y = dataset.target"
   ],
   "metadata": {
    "collapsed": false,
    "ExecuteTime": {
     "end_time": "2024-01-10T11:32:09.231615100Z",
     "start_time": "2024-01-10T11:32:09.227100200Z"
    }
   },
   "id": "22ff4342226aadbf",
   "execution_count": 152
  },
  {
   "cell_type": "code",
   "outputs": [],
   "source": [
    "choose_label = Y<2"
   ],
   "metadata": {
    "collapsed": false,
    "ExecuteTime": {
     "end_time": "2024-01-10T11:32:10.373385100Z",
     "start_time": "2024-01-10T11:32:10.353846600Z"
    }
   },
   "id": "e39c9a8f1de94942",
   "execution_count": 153
  },
  {
   "cell_type": "code",
   "outputs": [],
   "source": [
    "X_train,x_test,Y_train,y_test = train_test_split(X[choose_label],Y[choose_label],test_size=0.2)"
   ],
   "metadata": {
    "collapsed": false,
    "ExecuteTime": {
     "end_time": "2024-01-10T11:32:11.118577100Z",
     "start_time": "2024-01-10T11:32:11.108700300Z"
    }
   },
   "id": "ec23ec387fce30de",
   "execution_count": 154
  },
  {
   "cell_type": "code",
   "outputs": [],
   "source": [
    "model = ClassificationModel(epoch=10,lr=0.01)"
   ],
   "metadata": {
    "collapsed": false,
    "ExecuteTime": {
     "end_time": "2024-01-10T11:37:56.333640800Z",
     "start_time": "2024-01-10T11:37:56.328914600Z"
    }
   },
   "id": "fc1e63ebdb6e8e4f",
   "execution_count": 165
  },
  {
   "cell_type": "code",
   "outputs": [
    {
     "name": "stdout",
     "output_type": "stream",
     "text": [
      "epoch:1 ---> accuracy:100.0%\n",
      "epoch:2 ---> accuracy:100.0%\n",
      "epoch:3 ---> accuracy:100.0%\n",
      "epoch:4 ---> accuracy:100.0%\n",
      "epoch:5 ---> accuracy:100.0%\n",
      "epoch:6 ---> accuracy:100.0%\n",
      "epoch:7 ---> accuracy:100.0%\n",
      "epoch:8 ---> accuracy:100.0%\n",
      "epoch:9 ---> accuracy:100.0%\n",
      "epoch:10 ---> accuracy:100.0%\n"
     ]
    }
   ],
   "source": [
    "model.fit(X_train,Y_train)"
   ],
   "metadata": {
    "collapsed": false,
    "ExecuteTime": {
     "end_time": "2024-01-10T11:37:57.372733700Z",
     "start_time": "2024-01-10T11:37:57.356963200Z"
    }
   },
   "id": "5068f96d5cd98c65",
   "execution_count": 166
  },
  {
   "cell_type": "code",
   "outputs": [
    {
     "data": {
      "text/plain": "100.0"
     },
     "execution_count": 176,
     "metadata": {},
     "output_type": "execute_result"
    }
   ],
   "source": [
    "model.accuracy(x_test,y_test)"
   ],
   "metadata": {
    "collapsed": false,
    "ExecuteTime": {
     "end_time": "2024-01-10T11:39:06.543780400Z",
     "start_time": "2024-01-10T11:39:06.539139600Z"
    }
   },
   "id": "8d4666c2026cc380",
   "execution_count": 176
  }
 ],
 "metadata": {
  "kernelspec": {
   "display_name": "Python 3",
   "language": "python",
   "name": "python3"
  },
  "language_info": {
   "codemirror_mode": {
    "name": "ipython",
    "version": 2
   },
   "file_extension": ".py",
   "mimetype": "text/x-python",
   "name": "python",
   "nbconvert_exporter": "python",
   "pygments_lexer": "ipython2",
   "version": "2.7.6"
  }
 },
 "nbformat": 4,
 "nbformat_minor": 5
}
