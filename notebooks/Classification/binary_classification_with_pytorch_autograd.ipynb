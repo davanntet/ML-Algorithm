{
 "cells": [
  {
   "cell_type": "code",
   "execution_count": 1160,
   "id": "initial_id",
   "metadata": {
    "collapsed": true,
    "ExecuteTime": {
     "end_time": "2024-02-01T08:59:11.232711800Z",
     "start_time": "2024-02-01T08:59:11.228198500Z"
    }
   },
   "outputs": [],
   "source": [
    "import torch\n",
    "from sklearn.datasets import load_iris\n",
    "from sklearn.model_selection import train_test_split\n",
    "import warnings\n",
    "warnings.filterwarnings = False"
   ]
  },
  {
   "cell_type": "code",
   "outputs": [],
   "source": [
    "class Perceptron:\n",
    "    def __init__(self,epoch,lr):\n",
    "        self.lr = lr\n",
    "        self.weight = None\n",
    "        self.epoch = epoch\n",
    "    def activation(self,x):\n",
    "        z = self.input_net(x)\n",
    "        return z\n",
    "    \n",
    "    def input_net(self,x):\n",
    "        z = torch.sum(x*self.weight[1:])+self.weight[0]\n",
    "        return z\n",
    "        \n",
    "    def loss(self,x,y):\n",
    "        z = self.activation(x)\n",
    "        # print(1 if z>=0 else 0)\n",
    "        L = y-z\n",
    "        delta = y - (1 if z>=0 else 0)\n",
    "        return L,delta\n",
    "    \n",
    "    def optimization(self,loss,delta):\n",
    "        loss.backward()\n",
    "        self.weight=self.weight.data-self.lr*self.weight.grad.data*delta\n",
    "        self.weight = self.weight.clone().detach()\n",
    "        self.weight.requires_grad_(True)\n",
    "        # self.weight = torch.tensor(self.weight.detach(),requires_grad=True)\n",
    "    def fit(self,x,y):\n",
    "        x = torch.tensor(x)\n",
    "        y = torch.tensor(y)\n",
    "        self.weight = torch.ones(len(x[0])+1,requires_grad=True)\n",
    "        for _ in range(self.epoch):\n",
    "            for (feature,target) in zip(x,y):\n",
    "                L,delta = self.loss(feature,target)\n",
    "                optimizer = self.optimization(L,delta)\n",
    "            print(f\"epoch:{_}---------------------accuracy:=> \",self.score(x,y))\n",
    "    def predict(self,x):\n",
    "        result = torch.tensor([])\n",
    "        for _x in x:\n",
    "            result = torch.concat((result,torch.tensor([1 if self.input_net(_x)>=0 else 0 ])))\n",
    "        return result\n",
    "    \n",
    "    def score(self,x,y):\n",
    "        if type(x) is torch.Tensor:\n",
    "            _score = torch.sum(self.predict(x)==y)/len(y)\n",
    "            return _score\n",
    "        else:\n",
    "            x = torch.tensor(x)\n",
    "            y = torch.tensor(y)\n",
    "            _score = torch.sum(self.predict(x)==y)/len(y)\n",
    "            return _score"
   ],
   "metadata": {
    "collapsed": false,
    "ExecuteTime": {
     "end_time": "2024-02-01T08:59:11.273456100Z",
     "start_time": "2024-02-01T08:59:11.237731100Z"
    }
   },
   "id": "301ea7eb1c1f4a09",
   "execution_count": 1161
  },
  {
   "cell_type": "code",
   "outputs": [],
   "source": [
    "model = Perceptron(epoch=20,lr=0.001)"
   ],
   "metadata": {
    "collapsed": false,
    "ExecuteTime": {
     "end_time": "2024-02-01T08:59:11.273966900Z",
     "start_time": "2024-02-01T08:59:11.245255900Z"
    }
   },
   "id": "726914c38d18aa67",
   "execution_count": 1162
  },
  {
   "cell_type": "code",
   "outputs": [],
   "source": [
    "iris = load_iris()\n",
    "_X = iris.data\n",
    "_Y = iris.target"
   ],
   "metadata": {
    "collapsed": false,
    "ExecuteTime": {
     "end_time": "2024-02-01T08:59:11.273966900Z",
     "start_time": "2024-02-01T08:59:11.261245100Z"
    }
   },
   "id": "adb3a77a968ee95",
   "execution_count": 1163
  },
  {
   "cell_type": "code",
   "outputs": [],
   "source": [
    "X_train,X_test,y_train,y_test = train_test_split(_X[_Y<2],_Y[_Y<2],test_size=0.2,random_state=42)"
   ],
   "metadata": {
    "collapsed": false,
    "ExecuteTime": {
     "end_time": "2024-02-01T08:59:11.288994200Z",
     "start_time": "2024-02-01T08:59:11.266084500Z"
    }
   },
   "id": "1bb0d4fdcd7cf972",
   "execution_count": 1164
  },
  {
   "cell_type": "code",
   "outputs": [
    {
     "name": "stdout",
     "output_type": "stream",
     "text": [
      "epoch:0---------------------accuracy:=>  tensor(0.5250)\n",
      "epoch:1---------------------accuracy:=>  tensor(0.5250)\n",
      "epoch:2---------------------accuracy:=>  tensor(0.5250)\n",
      "epoch:3---------------------accuracy:=>  tensor(0.5250)\n",
      "epoch:4---------------------accuracy:=>  tensor(0.5250)\n",
      "epoch:5---------------------accuracy:=>  tensor(0.5250)\n",
      "epoch:6---------------------accuracy:=>  tensor(0.5250)\n",
      "epoch:7---------------------accuracy:=>  tensor(0.9625)\n",
      "epoch:8---------------------accuracy:=>  tensor(0.9875)\n",
      "epoch:9---------------------accuracy:=>  tensor(0.9875)\n",
      "epoch:10---------------------accuracy:=>  tensor(1.)\n",
      "epoch:11---------------------accuracy:=>  tensor(1.)\n",
      "epoch:12---------------------accuracy:=>  tensor(1.)\n",
      "epoch:13---------------------accuracy:=>  tensor(1.)\n",
      "epoch:14---------------------accuracy:=>  tensor(1.)\n",
      "epoch:15---------------------accuracy:=>  tensor(1.)\n",
      "epoch:16---------------------accuracy:=>  tensor(1.)\n",
      "epoch:17---------------------accuracy:=>  tensor(1.)\n",
      "epoch:18---------------------accuracy:=>  tensor(1.)\n",
      "epoch:19---------------------accuracy:=>  tensor(1.)\n"
     ]
    }
   ],
   "source": [
    "model.fit(X_train,y_train)"
   ],
   "metadata": {
    "collapsed": false,
    "ExecuteTime": {
     "end_time": "2024-02-01T08:59:11.563703200Z",
     "start_time": "2024-02-01T08:59:11.272613500Z"
    }
   },
   "id": "a27ec77bd0133985",
   "execution_count": 1165
  },
  {
   "cell_type": "code",
   "outputs": [
    {
     "data": {
      "text/plain": "tensor(1.)"
     },
     "execution_count": 1166,
     "metadata": {},
     "output_type": "execute_result"
    }
   ],
   "source": [
    "model.score(X_test,y_test)"
   ],
   "metadata": {
    "collapsed": false,
    "ExecuteTime": {
     "end_time": "2024-02-01T08:59:11.570698500Z",
     "start_time": "2024-02-01T08:59:11.562702400Z"
    }
   },
   "id": "4790e0d312722d72",
   "execution_count": 1166
  }
 ],
 "metadata": {
  "kernelspec": {
   "display_name": "Python 3",
   "language": "python",
   "name": "python3"
  },
  "language_info": {
   "codemirror_mode": {
    "name": "ipython",
    "version": 2
   },
   "file_extension": ".py",
   "mimetype": "text/x-python",
   "name": "python",
   "nbconvert_exporter": "python",
   "pygments_lexer": "ipython2",
   "version": "2.7.6"
  }
 },
 "nbformat": 4,
 "nbformat_minor": 5
}
