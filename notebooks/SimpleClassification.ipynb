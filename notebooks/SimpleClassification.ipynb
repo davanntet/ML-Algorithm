{
 "cells": [
  {
   "cell_type": "code",
   "outputs": [],
   "source": [
    "import numpy as np"
   ],
   "metadata": {
    "collapsed": false,
    "ExecuteTime": {
     "end_time": "2024-01-10T07:31:08.187535200Z",
     "start_time": "2024-01-10T07:31:08.180526400Z"
    }
   },
   "id": "94b175b2d8dc16c7",
   "execution_count": 13
  },
  {
   "cell_type": "code",
   "outputs": [],
   "source": [
    "\n",
    "class ClassificationModel:\n",
    "    def __init__(self,epoch,lr):\n",
    "\n",
    "        self.weights = None\n",
    "        self.target = None\n",
    "        self.feature = None\n",
    "        self.epoch = epoch\n",
    "        self.lr = lr\n",
    "    \n",
    "    def func_activation(self,x):\n",
    "        net_input = np.dot(x,self.weights[1:])+self.weights[0]\n",
    "        return 1 if net_input>=0 else 0\n",
    "    \n",
    "    def fit(self,feature,target):\n",
    "        self.feature = feature\n",
    "        self.target = target\n",
    "        self.weights = np.zeros(feature.shape[1]+1)\n",
    "        for e in range(self.epoch):\n",
    "            for x,y in zip(feature,target):\n",
    "                y_hat = self.func_activation(x)\n",
    "                self.weights[1:] += self.lr*(y-y_hat)*x\n",
    "                self.weights[0] += self.lr*(y-y_hat)\n",
    "                # print(y)\n",
    "            print(f\"epoch:{e+1} ---> accuracy:{self.accuracy()}%\")        \n",
    "    def predict(self,x):\n",
    "        y_hat = []\n",
    "        for f in x:\n",
    "            y_hat.append(self.func_activation(f))\n",
    "        return np.array(y_hat)\n",
    "    def accuracy(self):\n",
    "        accuracy_rate =  np.sum(self.predict(self.feature)==self.target)/len(self.target)\n",
    "        return accuracy_rate*100"
   ],
   "metadata": {
    "collapsed": false,
    "ExecuteTime": {
     "end_time": "2024-01-10T08:20:29.526302300Z",
     "start_time": "2024-01-10T08:20:29.518823600Z"
    }
   },
   "id": "b92121d6d11f5c17",
   "execution_count": 137
  },
  {
   "cell_type": "code",
   "outputs": [],
   "source": [
    "from sklearn.datasets import load_iris\n",
    "from sklearn.model_selection import train_test_split\n",
    "import pandas as pd"
   ],
   "metadata": {
    "collapsed": false,
    "ExecuteTime": {
     "end_time": "2024-01-10T08:20:30.779038400Z",
     "start_time": "2024-01-10T08:20:30.776019300Z"
    }
   },
   "id": "a9b17577f69deacd",
   "execution_count": 138
  },
  {
   "cell_type": "code",
   "outputs": [],
   "source": [
    "dataset = load_iris()"
   ],
   "metadata": {
    "collapsed": false,
    "ExecuteTime": {
     "end_time": "2024-01-10T08:20:32.383698700Z",
     "start_time": "2024-01-10T08:20:32.372748300Z"
    }
   },
   "id": "e30adc1d319a2e56",
   "execution_count": 139
  },
  {
   "cell_type": "code",
   "outputs": [],
   "source": [
    "X = dataset.data\n",
    "Y = dataset.target"
   ],
   "metadata": {
    "collapsed": false,
    "ExecuteTime": {
     "end_time": "2024-01-10T08:20:34.431571400Z",
     "start_time": "2024-01-10T08:20:34.428542400Z"
    }
   },
   "id": "22ff4342226aadbf",
   "execution_count": 141
  },
  {
   "cell_type": "code",
   "outputs": [],
   "source": [
    "choose_label = Y<2"
   ],
   "metadata": {
    "collapsed": false,
    "ExecuteTime": {
     "end_time": "2024-01-10T08:20:35.332689500Z",
     "start_time": "2024-01-10T08:20:35.328683500Z"
    }
   },
   "id": "e39c9a8f1de94942",
   "execution_count": 142
  },
  {
   "cell_type": "code",
   "outputs": [],
   "source": [
    "X_train,x_test,Y_train,y_test = train_test_split(X[choose_label],Y[choose_label],test_size=0.2)"
   ],
   "metadata": {
    "collapsed": false,
    "ExecuteTime": {
     "end_time": "2024-01-10T08:20:37.131792800Z",
     "start_time": "2024-01-10T08:20:37.127699900Z"
    }
   },
   "id": "ec23ec387fce30de",
   "execution_count": 144
  },
  {
   "cell_type": "code",
   "outputs": [],
   "source": [
    "model = ClassificationModel(epoch=10,lr=0.01)"
   ],
   "metadata": {
    "collapsed": false,
    "ExecuteTime": {
     "end_time": "2024-01-10T08:20:37.904787900Z",
     "start_time": "2024-01-10T08:20:37.900269500Z"
    }
   },
   "id": "fc1e63ebdb6e8e4f",
   "execution_count": 145
  },
  {
   "cell_type": "code",
   "outputs": [
    {
     "name": "stdout",
     "output_type": "stream",
     "text": [
      "epoch:1 ---> accuracy:100.0%\n",
      "epoch:2 ---> accuracy:100.0%\n",
      "epoch:3 ---> accuracy:100.0%\n",
      "epoch:4 ---> accuracy:100.0%\n",
      "epoch:5 ---> accuracy:100.0%\n",
      "epoch:6 ---> accuracy:100.0%\n",
      "epoch:7 ---> accuracy:100.0%\n",
      "epoch:8 ---> accuracy:100.0%\n",
      "epoch:9 ---> accuracy:100.0%\n",
      "epoch:10 ---> accuracy:100.0%\n"
     ]
    }
   ],
   "source": [
    "model.fit(X_train,Y_train)"
   ],
   "metadata": {
    "collapsed": false,
    "ExecuteTime": {
     "end_time": "2024-01-10T08:20:38.863869700Z",
     "start_time": "2024-01-10T08:20:38.844410400Z"
    }
   },
   "id": "5068f96d5cd98c65",
   "execution_count": 146
  },
  {
   "cell_type": "code",
   "outputs": [],
   "source": [
    "y_hat = model.predict(x_test)"
   ],
   "metadata": {
    "collapsed": false,
    "ExecuteTime": {
     "end_time": "2024-01-10T08:20:41.551586Z",
     "start_time": "2024-01-10T08:20:41.548068100Z"
    }
   },
   "id": "8d4666c2026cc380",
   "execution_count": 147
  },
  {
   "cell_type": "code",
   "outputs": [
    {
     "data": {
      "text/plain": "1.0"
     },
     "execution_count": 148,
     "metadata": {},
     "output_type": "execute_result"
    }
   ],
   "source": [
    "np.sum(y_test==y_hat)/len(y_test)"
   ],
   "metadata": {
    "collapsed": false,
    "ExecuteTime": {
     "end_time": "2024-01-10T08:20:42.606353200Z",
     "start_time": "2024-01-10T08:20:42.597595200Z"
    }
   },
   "id": "4dc470e26388943f",
   "execution_count": 148
  }
 ],
 "metadata": {
  "kernelspec": {
   "display_name": "Python 3",
   "language": "python",
   "name": "python3"
  },
  "language_info": {
   "codemirror_mode": {
    "name": "ipython",
    "version": 2
   },
   "file_extension": ".py",
   "mimetype": "text/x-python",
   "name": "python",
   "nbconvert_exporter": "python",
   "pygments_lexer": "ipython2",
   "version": "2.7.6"
  }
 },
 "nbformat": 4,
 "nbformat_minor": 5
}
